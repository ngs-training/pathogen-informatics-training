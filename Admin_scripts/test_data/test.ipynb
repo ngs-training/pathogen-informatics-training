{
 "cells": [
  {
   "cell_type": "markdown",
   "metadata": {},
   "source": [
    "# This is a test\n",
    "And sometimes switches in french and say \"miaou\" just because well why not why use post when this sofa is here so i heard this rumor where the humans are our owners, pfft, what do they know?! cat ass trophy destroy couch. Hack walk on car leaving trail of paw prints on hood and windshield, sun bathe. Jump around on couch, meow constantly until given food, kick up litter meow to be let in use lap as chair meowing chowing and wowing. Lick the plastic bag meowwww hiding behind the couch until lured out by a feathery toy or ask for petting. Chew on cable litter kitter kitty litty little kitten big roar roar feed me or eat all the power cords for mark territory. "
   ]
  },
  {
   "cell_type": "code",
   "execution_count": null,
   "metadata": {},
   "outputs": [],
   "source": [
    "ls -l"
   ]
  },
  {
   "cell_type": "markdown",
   "metadata": {},
   "source": [
    "![test](img/image.png)"
   ]
  },
  {
   "cell_type": "markdown",
   "metadata": {},
   "source": [
    "|test|test1|\n",
    "|----|-----|\n",
    "|1   |2    |"
   ]
  }
 ],
 "metadata": {
  "kernelspec": {
   "display_name": "Bash",
   "language": "bash",
   "name": "bash"
  },
  "language_info": {
   "codemirror_mode": "shell",
   "file_extension": ".sh",
   "mimetype": "text/x-sh",
   "name": "bash"
  }
 },
 "nbformat": 4,
 "nbformat_minor": 2
}
